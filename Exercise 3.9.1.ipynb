{
 "cells": [
  {
   "cell_type": "code",
   "execution_count": null,
   "metadata": {},
   "outputs": [],
   "source": [
    "1.Turn a stacked bar chart into a pie chart using coord_polar()\n"
   ]
  },
  {
   "cell_type": "code",
   "execution_count": null,
   "metadata": {},
   "outputs": [],
   "source": [
    "library('tidyverse')"
   ]
  },
  {
   "cell_type": "code",
   "execution_count": null,
   "metadata": {},
   "outputs": [],
   "source": [
    "\n",
    "ggplot(mpg, aes(x = 2, fill=factor(cyl))) + \n",
    "  geom_bar(width=1, stat='count') \n",
    "geom_bar()\n",
    "ggplot(mpg, aes(x = 2, fill=factor(cyl))) + \n",
    "  geom_bar(width=1, stat='count') +\n",
    "  coord_polar(theta='y')\n",
    "\n"
   ]
  },
  {
   "cell_type": "code",
   "execution_count": null,
   "metadata": {},
   "outputs": [],
   "source": [
    "2.What does labs() do?\n",
    "it changes labels on legends and axes"
   ]
  },
  {
   "cell_type": "code",
   "execution_count": null,
   "metadata": {},
   "outputs": [],
   "source": [
    "Whats the difference between coord_quickmap() and coord_map()?\n",
    "`coord_quickmap` uses an approximation to the mercator projection, \n",
    "whereas `coord_map` can use a variety of projections from the `mapproj` package.\n",
    "This means that `coord_quickmap` runs faster and doesn't require additional packages, \n",
    "but isn't as accurate, and won't work right far from the equator."
   ]
  }
 ],
 "metadata": {
  "kernelspec": {
   "display_name": "R",
   "language": "R",
   "name": "ir"
  },
  "language_info": {
   "codemirror_mode": "r",
   "file_extension": ".r",
   "mimetype": "text/x-r-source",
   "name": "R",
   "pygments_lexer": "r",
   "version": "3.6.1"
  }
 },
 "nbformat": 4,
 "nbformat_minor": 4
}
