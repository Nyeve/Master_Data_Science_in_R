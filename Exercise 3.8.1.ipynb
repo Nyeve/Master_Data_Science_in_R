{
 "cells": [
  {
   "cell_type": "code",
   "execution_count": null,
   "metadata": {},
   "outputs": [],
   "source": [
    "1.)What is the problem with this plot? How could you improve it?"
   ]
  },
  {
   "cell_type": "code",
   "execution_count": null,
   "metadata": {},
   "outputs": [],
   "source": [
    "ggplot(data = mpg, mapping = aes(x = cty, y = hwy)) + \n",
    "  geom_point()"
   ]
  },
  {
   "cell_type": "code",
   "execution_count": null,
   "metadata": {},
   "outputs": [],
   "source": [
    "There is overplotting because of multiple observations on the same location.It can be improved by introducing jitter to reduce overplotting. "
   ]
  },
  {
   "cell_type": "code",
   "execution_count": null,
   "metadata": {},
   "outputs": [],
   "source": [
    "ggplot(data = mpg, mapping = aes(x = cty, y = hwy)) + \n",
    "  geom_point(position = \"jitter\")"
   ]
  },
  {
   "cell_type": "code",
   "execution_count": null,
   "metadata": {},
   "outputs": [],
   "source": [
    "2.)What parameters to geom_jitter() control the amount of jittering?\n",
    "Width-controls the amount of vertical displacement\n",
    "Height-\n",
    "na.rm\n",
    "show.legend\n",
    "inherit.aes"
   ]
  },
  {
   "cell_type": "code",
   "execution_count": null,
   "metadata": {},
   "outputs": [],
   "source": [
    "3.)Compare and contrast geom_jitter() with geom_count().Both works wewll with discrete data and overplotting\n",
    "geom_point(position = \"jitter\")adds a small amount of random variation to the location of each point.\n",
    "whereas geom_count is a variant of geom_point() that counts the number of observations at each location, then maps the count to point area.\n",
    "geom_jitter works well with smaller datasets whereas geom-count "
   ]
  }
 ],
 "metadata": {
  "kernelspec": {
   "display_name": "R",
   "language": "R",
   "name": "ir"
  },
  "language_info": {
   "codemirror_mode": "r",
   "file_extension": ".r",
   "mimetype": "text/x-r-source",
   "name": "R",
   "pygments_lexer": "r",
   "version": "3.6.1"
  }
 },
 "nbformat": 4,
 "nbformat_minor": 4
}
