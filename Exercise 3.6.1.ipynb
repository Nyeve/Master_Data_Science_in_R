{
 "cells": [
  {
   "cell_type": "code",
   "execution_count": null,
   "metadata": {},
   "outputs": [],
   "source": [
    "1.)What geom would you use to draw a line chart? A boxplot? A histogram? An area chart?\n",
    "geom_line\n",
    "geom_boxplot\n",
    "geom_histogram\n",
    "geom_area"
   ]
  },
  {
   "cell_type": "code",
   "execution_count": null,
   "metadata": {},
   "outputs": [],
   "source": [
    "2.)Run this code in your head and predict what the output will look like. Then, run the code in R and check your predictions.\n",
    " geom_smooth local mapping argument overrides the global mapping argument."
   ]
  },
  {
   "cell_type": "code",
   "execution_count": null,
   "metadata": {},
   "outputs": [],
   "source": [
    "ggplot(data = mpg, mapping = aes(x = displ, y = hwy, color = drv)) + \n",
    "  geom_point() + \n",
    "  geom_smooth(se = FALSE)"
   ]
  },
  {
   "cell_type": "code",
   "execution_count": null,
   "metadata": {},
   "outputs": [],
   "source": [
    "3.)What does show.legend = FALSE do?\n",
    "What happens if you remove it?\n",
    "Why do you think I used it earlier in the chapter?\n",
    "It removes the legend. It gives a cleaner plot when its clear that the grouping is done on a specific variable."
   ]
  },
  {
   "cell_type": "code",
   "execution_count": null,
   "metadata": {},
   "outputs": [],
   "source": [
    "4.)What does the se argument to geom_smooth() do?\n",
    "It makes the smoothed lines and  removes the confidence intervals."
   ]
  },
  {
   "cell_type": "code",
   "execution_count": null,
   "metadata": {},
   "outputs": [],
   "source": [
    "5.)Will these two graphs look different? Why/why not?"
   ]
  },
  {
   "cell_type": "code",
   "execution_count": null,
   "metadata": {},
   "outputs": [],
   "source": [
    "ggplot(data = mpg, mapping = aes(x = displ, y = hwy)) + \n",
    "  geom_point() + \n",
    "  geom_smooth()\n",
    "\n",
    "ggplot() + \n",
    "  geom_point(data = mpg, mapping = aes(x = displ, y = hwy)) + \n",
    "  geom_smooth(data = mpg, mapping = aes(x = displ, y = hwy))"
   ]
  },
  {
   "cell_type": "code",
   "execution_count": null,
   "metadata": {},
   "outputs": [],
   "source": [
    "They are the same and the output is similar.The first code has done away with duplication by the global data takes all the argument."
   ]
  },
  {
   "cell_type": "code",
   "execution_count": null,
   "metadata": {},
   "outputs": [],
   "source": [
    "6.)Recreate the R code necessary to generate the following graphs."
   ]
  },
  {
   "cell_type": "code",
   "execution_count": null,
   "metadata": {},
   "outputs": [],
   "source": [
    "ggplot(data = mpg,mapping = aes(x = displ, y = hwy)) +\n",
    "geom_point() +\n",
    "geom_smooth(se = FALSE)"
   ]
  },
  {
   "cell_type": "code",
   "execution_count": null,
   "metadata": {},
   "outputs": [],
   "source": [
    "ggplot(data = mpg,mapping = aes(x = displ, y = hwy, group = drv)) +\n",
    "+ geom_point() +\n",
    "+ geom_smooth(se = F,show.legend = F)"
   ]
  },
  {
   "cell_type": "code",
   "execution_count": null,
   "metadata": {},
   "outputs": [],
   "source": [
    "ggplot(data = mpg,mapping = aes(x = displ, y = hwy, color = drv)) +\n",
    "+ geom_point() +\n",
    "+ geom_smooth(se = F,show.legend = F)"
   ]
  },
  {
   "cell_type": "code",
   "execution_count": null,
   "metadata": {},
   "outputs": [],
   "source": [
    "ggplot(data = mpg, mapping = aes(x = displ,y = hwy)) +\n",
    "+ geom_point(mapping = aes(color = drv)) +\n",
    "+ geom_smooth(se = F)\n"
   ]
  },
  {
   "cell_type": "code",
   "execution_count": null,
   "metadata": {},
   "outputs": [],
   "source": [
    "ggplot(data = mpg, mapping = aes(x = displ, y = hwy,linetype = drv,color = drv)) +\n",
    "+ geom_point() +\n",
    "+ geom_smooth(se = F,show.legend=F)"
   ]
  },
  {
   "cell_type": "code",
   "execution_count": null,
   "metadata": {},
   "outputs": [],
   "source": [
    "ggplot(data = mpg)+\n",
    "+ geom_point(mapping = aes(x = displ,y = hwy,color = drv ))\n"
   ]
  }
 ],
 "metadata": {
  "kernelspec": {
   "display_name": "R",
   "language": "R",
   "name": "ir"
  },
  "language_info": {
   "codemirror_mode": "r",
   "file_extension": ".r",
   "mimetype": "text/x-r-source",
   "name": "R",
   "pygments_lexer": "r",
   "version": "3.6.1"
  }
 },
 "nbformat": 4,
 "nbformat_minor": 4
}
